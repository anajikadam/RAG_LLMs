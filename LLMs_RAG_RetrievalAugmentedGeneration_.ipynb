{
  "cells": [
    {
      "cell_type": "markdown",
      "source": [
        "# **Retrieval Augmented Generation**"
      ],
      "metadata": {
        "id": "YQOrPZpO4Pqs"
      }
    },
    {
      "cell_type": "code",
      "source": [
        "!pip install llama-index -q\n",
        "!pip install pypdf -q\n",
        "!pip install openai -q"
      ],
      "metadata": {
        "colab": {
          "base_uri": "https://localhost:8080/"
        },
        "id": "gfzvrYac4S2r",
        "outputId": "d499f898-840d-43cc-e5f5-9c5c022a59b1"
      },
      "execution_count": 2,
      "outputs": [
        {
          "output_type": "stream",
          "name": "stdout",
          "text": [
            "\u001b[?25l     \u001b[90m━━━━━━━━━━━━━━━━━━━━━━━━━━━━━━━━━━━━━━━━\u001b[0m \u001b[32m0.0/284.0 kB\u001b[0m \u001b[31m?\u001b[0m eta \u001b[36m-:--:--\u001b[0m\r\u001b[2K     \u001b[91m━━━━━━━━━━━━━━━━━━━━━━━━━━━━━━━━━━\u001b[0m\u001b[91m╸\u001b[0m\u001b[90m━━━━━\u001b[0m \u001b[32m245.8/284.0 kB\u001b[0m \u001b[31m7.3 MB/s\u001b[0m eta \u001b[36m0:00:01\u001b[0m\r\u001b[2K     \u001b[90m━━━━━━━━━━━━━━━━━━━━━━━━━━━━━━━━━━━━━━━━\u001b[0m \u001b[32m284.0/284.0 kB\u001b[0m \u001b[31m6.4 MB/s\u001b[0m eta \u001b[36m0:00:00\u001b[0m\n",
            "\u001b[?25h"
          ]
        }
      ]
    },
    {
      "cell_type": "code",
      "execution_count": 3,
      "metadata": {
        "id": "idZ3O8le3ngN"
      },
      "outputs": [],
      "source": [
        "\n",
        "\n",
        "import os\n",
        "# from dotenv import load_dotenv\n",
        "# load_dotenv()\n",
        "\n",
        "from google.colab import userdata\n",
        "OPENAI_API_KEY = userdata.get('OPENAI_API_KEY')\n"
      ]
    },
    {
      "cell_type": "code",
      "execution_count": 9,
      "metadata": {
        "id": "KducbQjo3ngQ"
      },
      "outputs": [],
      "source": [
        "os.environ['OPENAI_API_KEY'] = OPENAI_API_KEY"
      ]
    },
    {
      "cell_type": "code",
      "execution_count": 4,
      "metadata": {
        "id": "0GcuAlBl3ngQ"
      },
      "outputs": [],
      "source": [
        "from llama_index import VectorStoreIndex,SimpleDirectoryReader\n"
      ]
    },
    {
      "cell_type": "code",
      "source": [
        "documents = SimpleDirectoryReader(\"data\").load_data()"
      ],
      "metadata": {
        "id": "-fsXqUzh495g"
      },
      "execution_count": 5,
      "outputs": []
    },
    {
      "cell_type": "code",
      "execution_count": 7,
      "metadata": {
        "colab": {
          "base_uri": "https://localhost:8080/"
        },
        "id": "tNDk2Kjf3ngR",
        "outputId": "7b823ee1-df13-4f32-c387-4ad55ef5c18d"
      },
      "outputs": [
        {
          "output_type": "execute_result",
          "data": {
            "text/plain": [
              "Document(id_='880571e5-08dc-4ca0-a05e-d3d9937456a2', embedding=None, metadata={'page_label': '1', 'file_name': 'AttentionPaper.pdf', 'file_path': 'data/AttentionPaper.pdf', 'file_type': 'application/pdf', 'file_size': 2215244, 'creation_date': '2024-01-31', 'last_modified_date': '2024-01-31', 'last_accessed_date': '2024-01-31'}, excluded_embed_metadata_keys=['file_name', 'file_type', 'file_size', 'creation_date', 'last_modified_date', 'last_accessed_date'], excluded_llm_metadata_keys=['file_name', 'file_type', 'file_size', 'creation_date', 'last_modified_date', 'last_accessed_date'], relationships={}, text='Provided proper attribution is provided, Google hereby grants permission to\\nreproduce the tables and figures in this paper solely for use in journalistic or\\nscholarly works.\\nAttention Is All You Need\\nAshish Vaswani∗\\nGoogle Brain\\navaswani@google.comNoam Shazeer∗\\nGoogle Brain\\nnoam@google.comNiki Parmar∗\\nGoogle Research\\nnikip@google.comJakob Uszkoreit∗\\nGoogle Research\\nusz@google.com\\nLlion Jones∗\\nGoogle Research\\nllion@google.comAidan N. Gomez∗ †\\nUniversity of Toronto\\naidan@cs.toronto.eduŁukasz Kaiser∗\\nGoogle Brain\\nlukaszkaiser@google.com\\nIllia Polosukhin∗ ‡\\nillia.polosukhin@gmail.com\\nAbstract\\nThe dominant sequence transduction models are based on complex recurrent or\\nconvolutional neural networks that include an encoder and a decoder. The best\\nperforming models also connect the encoder and decoder through an attention\\nmechanism. We propose a new simple network architecture, the Transformer,\\nbased solely on attention mechanisms, dispensing with recurrence and convolutions\\nentirely. Experiments on two machine translation tasks show these models to\\nbe superior in quality while being more parallelizable and requiring significantly\\nless time to train. Our model achieves 28.4 BLEU on the WMT 2014 English-\\nto-German translation task, improving over the existing best results, including\\nensembles, by over 2 BLEU. On the WMT 2014 English-to-French translation task,\\nour model establishes a new single-model state-of-the-art BLEU score of 41.8 after\\ntraining for 3.5 days on eight GPUs, a small fraction of the training costs of the\\nbest models from the literature. We show that the Transformer generalizes well to\\nother tasks by applying it successfully to English constituency parsing both with\\nlarge and limited training data.\\n∗Equal contribution. Listing order is random. Jakob proposed replacing RNNs with self-attention and started\\nthe effort to evaluate this idea. Ashish, with Illia, designed and implemented the first Transformer models and\\nhas been crucially involved in every aspect of this work. Noam proposed scaled dot-product attention, multi-head\\nattention and the parameter-free position representation and became the other person involved in nearly every\\ndetail. Niki designed, implemented, tuned and evaluated countless model variants in our original codebase and\\ntensor2tensor. Llion also experimented with novel model variants, was responsible for our initial codebase, and\\nefficient inference and visualizations. Lukasz and Aidan spent countless long days designing various parts of and\\nimplementing tensor2tensor, replacing our earlier codebase, greatly improving results and massively accelerating\\nour research.\\n†Work performed while at Google Brain.\\n‡Work performed while at Google Research.\\n31st Conference on Neural Information Processing Systems (NIPS 2017), Long Beach, CA, USA.arXiv:1706.03762v7  [cs.CL]  2 Aug 2023', start_char_idx=None, end_char_idx=None, text_template='{metadata_str}\\n\\n{content}', metadata_template='{key}: {value}', metadata_seperator='\\n')"
            ]
          },
          "metadata": {},
          "execution_count": 7
        }
      ],
      "source": [
        "documents[0]"
      ]
    },
    {
      "cell_type": "code",
      "execution_count": 10,
      "metadata": {
        "colab": {
          "base_uri": "https://localhost:8080/",
          "height": 81,
          "referenced_widgets": [
            "abaeebd1b70444828b669be07db1cc39",
            "9cc3ca8c1a2f4b3a90064fb2c4575227",
            "189d88b15a674d1c9135a23db892c0c8",
            "0d6de71d77064dbbb76b26001b07fedf",
            "c84cad2aef2348c5840579afd95d4968",
            "6e90810ab7824e728012a1b9e008965b",
            "45dbc912a3ba4c3fb8a44d505e1c6b75",
            "23434ba9b0634b4c98c45fffe9972d3e",
            "6098bc0d53ad4d8792b452079cfdcfbb",
            "ccc4c667294f4657beaf2fc219208b65",
            "7cc771a255724d429c0063e4055946e8",
            "2b18b8b07bb94079a147c1bc29041692",
            "f6310ebfee834bd6af0649087a434bee",
            "2d6bd47306b1429f81c7658250ca4ec4",
            "c880c0ac8b9242b99cc782ff91e7f405",
            "0348645de340443bb04e7ded8f0072b0",
            "5c8c9d198f4049d2b5e6731a976017e6",
            "3439f5a9e7b64e55b3569adeb061f954",
            "cb95fb487a7544e0b249403584e25659",
            "74930014083b48a3995f55f1097a4e33",
            "3f5f1f002da6429782a419fe2894a82c",
            "ff41616fbbdf40f3af051543a55c3266"
          ]
        },
        "id": "S48WecOG3ngR",
        "outputId": "d90a929e-3dd8-44b6-c9e2-952673970a2a"
      },
      "outputs": [
        {
          "output_type": "display_data",
          "data": {
            "text/plain": [
              "Parsing nodes:   0%|          | 0/30 [00:00<?, ?it/s]"
            ],
            "application/vnd.jupyter.widget-view+json": {
              "version_major": 2,
              "version_minor": 0,
              "model_id": "abaeebd1b70444828b669be07db1cc39"
            }
          },
          "metadata": {}
        },
        {
          "output_type": "display_data",
          "data": {
            "text/plain": [
              "Generating embeddings:   0%|          | 0/48 [00:00<?, ?it/s]"
            ],
            "application/vnd.jupyter.widget-view+json": {
              "version_major": 2,
              "version_minor": 0,
              "model_id": "2b18b8b07bb94079a147c1bc29041692"
            }
          },
          "metadata": {}
        }
      ],
      "source": [
        "index = VectorStoreIndex.from_documents(documents, show_progress=True)"
      ]
    },
    {
      "cell_type": "code",
      "execution_count": 11,
      "metadata": {
        "colab": {
          "base_uri": "https://localhost:8080/"
        },
        "id": "onOWK-Z13ngR",
        "outputId": "8071be9a-9cff-469e-eb20-5f8307a5f56f"
      },
      "outputs": [
        {
          "output_type": "execute_result",
          "data": {
            "text/plain": [
              "<llama_index.indices.vector_store.base.VectorStoreIndex at 0x7bf7a9b951b0>"
            ]
          },
          "metadata": {},
          "execution_count": 11
        }
      ],
      "source": [
        "index"
      ]
    },
    {
      "cell_type": "code",
      "execution_count": 12,
      "metadata": {
        "id": "00B5Aolk3ngS"
      },
      "outputs": [],
      "source": [
        "query_engine = index.as_query_engine()"
      ]
    },
    {
      "cell_type": "code",
      "source": [
        "query_engine"
      ],
      "metadata": {
        "colab": {
          "base_uri": "https://localhost:8080/"
        },
        "id": "EPPQNp3d6Ng8",
        "outputId": "383d5772-5746-4525-8a92-8f22d1b0bc09"
      },
      "execution_count": 13,
      "outputs": [
        {
          "output_type": "execute_result",
          "data": {
            "text/plain": [
              "<llama_index.query_engine.retriever_query_engine.RetrieverQueryEngine at 0x7bf7a9b96860>"
            ]
          },
          "metadata": {},
          "execution_count": 13
        }
      ]
    },
    {
      "cell_type": "code",
      "source": [
        "%%time\n",
        "que = 'what is transformers'\n",
        "\n",
        "response = query_engine.query(que)"
      ],
      "metadata": {
        "colab": {
          "base_uri": "https://localhost:8080/"
        },
        "id": "KI3mGadX6SyS",
        "outputId": "3016a78a-8b79-4cda-ece8-bddf6e978260"
      },
      "execution_count": 15,
      "outputs": [
        {
          "output_type": "stream",
          "name": "stdout",
          "text": [
            "CPU times: user 58.6 ms, sys: 1.05 ms, total: 59.6 ms\n",
            "Wall time: 5.65 s\n"
          ]
        }
      ]
    },
    {
      "cell_type": "code",
      "source": [
        "print(response)"
      ],
      "metadata": {
        "colab": {
          "base_uri": "https://localhost:8080/"
        },
        "id": "T068R9p66Su0",
        "outputId": "eef50c13-e6db-47e2-c65d-c8b2d10ddbab"
      },
      "execution_count": 17,
      "outputs": [
        {
          "output_type": "stream",
          "name": "stdout",
          "text": [
            "The Transformer is a model architecture that relies entirely on an attention mechanism to draw global dependencies between input and output. It is used for sequence transduction tasks, such as language translation. Unlike traditional models that use recurrent layers, the Transformer replaces them with multi-headed self-attention. This allows for significantly more parallelization and faster training compared to models based on recurrent or convolutional layers. The Transformer has achieved state-of-the-art performance in translation tasks and shows promise for other tasks involving different modalities, such as images, audio, and video.\n"
          ]
        }
      ]
    },
    {
      "cell_type": "code",
      "source": [
        "%%time\n",
        "que2 = 'what is YOLO'\n",
        "\n",
        "response = query_engine.query(que2)"
      ],
      "metadata": {
        "colab": {
          "base_uri": "https://localhost:8080/"
        },
        "id": "9KCu5VfM6SsS",
        "outputId": "cb2107dc-06cc-4e76-e909-7390c8605d94"
      },
      "execution_count": 18,
      "outputs": [
        {
          "output_type": "stream",
          "name": "stdout",
          "text": [
            "CPU times: user 56.9 ms, sys: 3.07 ms, total: 60 ms\n",
            "Wall time: 5.13 s\n"
          ]
        }
      ]
    },
    {
      "cell_type": "code",
      "source": [
        "print(response)"
      ],
      "metadata": {
        "colab": {
          "base_uri": "https://localhost:8080/"
        },
        "id": "nZSly27h7EUo",
        "outputId": "ff3d03dc-271f-4c61-fd65-f556dfd67194"
      },
      "execution_count": 19,
      "outputs": [
        {
          "output_type": "stream",
          "name": "stdout",
          "text": [
            "YOLO stands for \"You Only Look Once\" and it is a real-time object detection algorithm. It is known for its speed and accuracy in detecting objects in images and videos. YOLO processes the entire image or video frame in a single pass and predicts the bounding boxes and class labels of the objects present. This makes it a popular choice for applications that require real-time object detection, such as autonomous driving, robotics, and surveillance systems.\n"
          ]
        }
      ]
    },
    {
      "cell_type": "code",
      "source": [
        "from llama_index.response.pprint_utils import pprint_response"
      ],
      "metadata": {
        "id": "BX_Vrd4G7TwC"
      },
      "execution_count": 20,
      "outputs": []
    },
    {
      "cell_type": "code",
      "source": [
        "\n",
        "pprint_response(response, show_source=True)\n",
        "print(response)\n"
      ],
      "metadata": {
        "colab": {
          "base_uri": "https://localhost:8080/"
        },
        "id": "GZoS9Ihv7INh",
        "outputId": "f729ac59-367b-4806-b06a-d7f202f422dd"
      },
      "execution_count": 21,
      "outputs": [
        {
          "output_type": "stream",
          "name": "stdout",
          "text": [
            "Final Response: YOLO stands for \"You Only Look Once\" and it is a real-\n",
            "time object detection algorithm. It is known for its speed and\n",
            "accuracy in detecting objects in images and videos. YOLO processes the\n",
            "entire image or video frame in a single pass and predicts the bounding\n",
            "boxes and class labels of the objects present. This makes it a popular\n",
            "choice for applications that require real-time object detection, such\n",
            "as autonomous driving, robotics, and surveillance systems.\n",
            "______________________________________________________________________\n",
            "Source Node 1/2\n",
            "Node ID: a091e11e-d5c9-419c-8745-d94dd2a05a38\n",
            "Similarity: 0.7730262340847268\n",
            "Text: YOLOv7: Trainable bag-of-freebies sets new state-of-the-art for\n",
            "real-time object detectors Chien-Yao Wang1, Alexey Bochkovskiy, and\n",
            "Hong-Yuan Mark Liao1 1Institute of Information Science, Academia\n",
            "Sinica, Taiwan kinyiu@iis.sinica.edu.tw, alexeyab84@gmail.com, and\n",
            "liao@iis.sinica.edu.tw Abstract YOLOv7 surpasses all known object\n",
            "detectors in both...\n",
            "______________________________________________________________________\n",
            "Source Node 2/2\n",
            "Node ID: bbf7bc8c-9d03-46ce-855b-9ee0acdb9858\n",
            "Similarity: 0.7628136319540478\n",
            "Text: 2, 5 [62] Joseph Redmon and Ali Farhadi. YOLO9000: better,\n",
            "faster, stronger. In Proceedings of the IEEE/CVF Conference on\n",
            "Computer Vision and Pattern Recognition (CVPR) , pages 7263–7271,\n",
            "2017. 2 [63] Joseph Redmon and Ali Farhadi. YOLOv3: An incremental\n",
            "improvement. arXiv preprint arXiv:1804.02767 , 2018. 1, 2[64] Hamid\n",
            "Rezatoﬁghi, Nathan Tsoi,...\n",
            "YOLO stands for \"You Only Look Once\" and it is a real-time object detection algorithm. It is known for its speed and accuracy in detecting objects in images and videos. YOLO processes the entire image or video frame in a single pass and predicts the bounding boxes and class labels of the objects present. This makes it a popular choice for applications that require real-time object detection, such as autonomous driving, robotics, and surveillance systems.\n"
          ]
        }
      ]
    },
    {
      "cell_type": "code",
      "source": [
        "%%time\n",
        "que2 = 'what is Attention Is All You Need'\n",
        "\n",
        "response = query_engine.query(que2)"
      ],
      "metadata": {
        "colab": {
          "base_uri": "https://localhost:8080/"
        },
        "id": "KS6DOMIq7kbo",
        "outputId": "b36f8e39-2418-4ac9-d954-9101217de62d"
      },
      "execution_count": 22,
      "outputs": [
        {
          "output_type": "stream",
          "name": "stdout",
          "text": [
            "CPU times: user 48.3 ms, sys: 3.7 ms, total: 52 ms\n",
            "Wall time: 4.4 s\n"
          ]
        }
      ]
    },
    {
      "cell_type": "code",
      "source": [
        "pprint_response(response, show_source=True)\n",
        "print(response)"
      ],
      "metadata": {
        "colab": {
          "base_uri": "https://localhost:8080/"
        },
        "id": "Igr57SGi7IKE",
        "outputId": "742ab656-7bfb-4da3-96e7-8c25a9219933"
      },
      "execution_count": 23,
      "outputs": [
        {
          "output_type": "stream",
          "name": "stdout",
          "text": [
            "Final Response: Attention Is All You Need is a paper that proposes a\n",
            "new network architecture called the Transformer. This architecture is\n",
            "based solely on attention mechanisms and does not use recurrent or\n",
            "convolutional neural networks. The paper demonstrates that the\n",
            "Transformer models outperform existing models in terms of quality,\n",
            "parallelizability, and training time. The paper also shows that the\n",
            "Transformer generalizes well to other tasks.\n",
            "______________________________________________________________________\n",
            "Source Node 1/2\n",
            "Node ID: b4da5d33-6082-47cd-9213-9f3fb03e4b5f\n",
            "Similarity: 0.8151853268488424\n",
            "Text: Provided proper attribution is provided, Google hereby grants\n",
            "permission to reproduce the tables and figures in this paper solely\n",
            "for use in journalistic or scholarly works. Attention Is All You Need\n",
            "Ashish Vaswani∗ Google Brain avaswani@google.comNoam Shazeer∗ Google\n",
            "Brain noam@google.comNiki Parmar∗ Google Research\n",
            "nikip@google.comJakob Uszkor...\n",
            "______________________________________________________________________\n",
            "Source Node 2/2\n",
            "Node ID: 45bd5263-13c6-4ad3-9c06-505bb7ef1b5a\n",
            "Similarity: 0.7828110796344354\n",
            "Text: Input-Input Layer5 The Law will never be perfect , but its\n",
            "application should be just - this is what we are missing , in my\n",
            "opinion . <EOS> <pad> The Law will never be perfect , but its\n",
            "application should be just - this is what we are missing , in my\n",
            "opinion . <EOS> <pad> Input-Input Layer5 The Law will never be perfect\n",
            ", but its application sho...\n",
            "Attention Is All You Need is a paper that proposes a new network architecture called the Transformer. This architecture is based solely on attention mechanisms and does not use recurrent or convolutional neural networks. The paper demonstrates that the Transformer models outperform existing models in terms of quality, parallelizability, and training time. The paper also shows that the Transformer generalizes well to other tasks.\n"
          ]
        }
      ]
    },
    {
      "cell_type": "code",
      "source": [
        "from llama_index.retrievers import VectorIndexRetriever\n",
        "from llama_index.query_engine import RetrieverQueryEngine\n",
        "from llama_index.indices.postprocessor import SimilarityPostprocessor"
      ],
      "metadata": {
        "id": "6mYGAhJq6QAn"
      },
      "execution_count": 25,
      "outputs": []
    },
    {
      "cell_type": "code",
      "source": [
        "%%time\n",
        "retriever = VectorIndexRetriever(index=index, similarity_top_k=4)\n",
        "postprocessor = SimilarityPostprocessor(similarity_cutoff=0.40)\n",
        "query_engine1 = RetrieverQueryEngine(retriever=retriever,\n",
        "                                    node_postprocessors = [postprocessor])\n",
        "\n",
        "\n",
        "que2 = 'what is Attention Is All You Need'\n",
        "\n",
        "response = query_engine1.query(que2)"
      ],
      "metadata": {
        "colab": {
          "base_uri": "https://localhost:8080/"
        },
        "id": "3nOaGJa79HeM",
        "outputId": "d7920285-b04b-48a8-8bf0-34b3dfea2c0f"
      },
      "execution_count": 36,
      "outputs": [
        {
          "output_type": "stream",
          "name": "stdout",
          "text": [
            "CPU times: user 58.9 ms, sys: 484 µs, total: 59.4 ms\n",
            "Wall time: 4.4 s\n"
          ]
        }
      ]
    },
    {
      "cell_type": "code",
      "source": [
        "pprint_response(response, show_source=True)\n",
        "\n",
        "print(response)"
      ],
      "metadata": {
        "colab": {
          "base_uri": "https://localhost:8080/"
        },
        "id": "I3Nyf9fS9VFy",
        "outputId": "0c133895-38bb-4174-b413-fe7e7cb1ff90"
      },
      "execution_count": 37,
      "outputs": [
        {
          "output_type": "stream",
          "name": "stdout",
          "text": [
            "Final Response: Attention Is All You Need is a paper that proposes a\n",
            "new network architecture called the Transformer. The Transformer is\n",
            "based solely on attention mechanisms and does not use recurrent or\n",
            "convolutional neural networks. The paper shows that the Transformer\n",
            "model outperforms existing models in terms of quality,\n",
            "parallelizability, and training time on machine translation tasks. It\n",
            "also demonstrates that the Transformer generalizes well to other\n",
            "tasks, such as English constituency parsing.\n",
            "______________________________________________________________________\n",
            "Source Node 1/4\n",
            "Node ID: b4da5d33-6082-47cd-9213-9f3fb03e4b5f\n",
            "Similarity: 0.8151853268488424\n",
            "Text: Provided proper attribution is provided, Google hereby grants\n",
            "permission to reproduce the tables and figures in this paper solely\n",
            "for use in journalistic or scholarly works. Attention Is All You Need\n",
            "Ashish Vaswani∗ Google Brain avaswani@google.comNoam Shazeer∗ Google\n",
            "Brain noam@google.comNiki Parmar∗ Google Research\n",
            "nikip@google.comJakob Uszkor...\n",
            "______________________________________________________________________\n",
            "Source Node 2/4\n",
            "Node ID: 45bd5263-13c6-4ad3-9c06-505bb7ef1b5a\n",
            "Similarity: 0.7828110796344354\n",
            "Text: Input-Input Layer5 The Law will never be perfect , but its\n",
            "application should be just - this is what we are missing , in my\n",
            "opinion . <EOS> <pad> The Law will never be perfect , but its\n",
            "application should be just - this is what we are missing , in my\n",
            "opinion . <EOS> <pad> Input-Input Layer5 The Law will never be perfect\n",
            ", but its application sho...\n",
            "______________________________________________________________________\n",
            "Source Node 3/4\n",
            "Node ID: d71527d8-aba9-46de-aa2c-bdd62f7338f4\n",
            "Similarity: 0.7802215679908405\n",
            "Text: Attention Visualizations Input-Input Layer5 It is in this spirit\n",
            "that a majority of American governments have passed new laws since\n",
            "2009 making the registration or voting process more difficult . <EOS>\n",
            "<pad> <pad> <pad> <pad> <pad> <pad> It is in this spirit that a\n",
            "majority of American governments have passed new laws since 2009\n",
            "making the regis...\n",
            "______________________________________________________________________\n",
            "Source Node 4/4\n",
            "Node ID: 29ee4b31-ee02-4307-a9dd-9816d22292cf\n",
            "Similarity: 0.7762850033751603\n",
            "Text: Scaled Dot-Product Attention  Multi-Head Attention Figure 2:\n",
            "(left) Scaled Dot-Product Attention. (right) Multi-Head Attention\n",
            "consists of several attention layers running in parallel. of the\n",
            "values, where the weight assigned to each value is computed by a\n",
            "compatibility function of the query with the corresponding key. 3.2.1\n",
            "Scaled Dot-Product A...\n",
            "Attention Is All You Need is a paper that proposes a new network architecture called the Transformer. The Transformer is based solely on attention mechanisms and does not use recurrent or convolutional neural networks. The paper shows that the Transformer model outperforms existing models in terms of quality, parallelizability, and training time on machine translation tasks. It also demonstrates that the Transformer generalizes well to other tasks, such as English constituency parsing.\n"
          ]
        }
      ]
    },
    {
      "cell_type": "code",
      "source": [
        "\n",
        "retriever = VectorIndexRetriever(index=index, similarity_top_k=4)\n",
        "postprocessor = SimilarityPostprocessor(similarity_cutoff=0.80)\n"
      ],
      "metadata": {
        "id": "LycYSR7_8E6j"
      },
      "execution_count": 31,
      "outputs": []
    },
    {
      "cell_type": "code",
      "execution_count": 33,
      "metadata": {
        "id": "ZMa9K4d93ngS"
      },
      "outputs": [],
      "source": [
        "\n",
        "query_engine2 = RetrieverQueryEngine(retriever=retriever,\n",
        "                                    node_postprocessors = [postprocessor])\n"
      ]
    },
    {
      "cell_type": "code",
      "execution_count": 34,
      "metadata": {
        "colab": {
          "base_uri": "https://localhost:8080/"
        },
        "id": "KgfczYHj3ngT",
        "outputId": "f34cdd2e-7a53-4ef1-d7f7-36e5c862a591"
      },
      "outputs": [
        {
          "output_type": "stream",
          "name": "stdout",
          "text": [
            "CPU times: user 43.4 ms, sys: 4.83 ms, total: 48.2 ms\n",
            "Wall time: 4.15 s\n"
          ]
        }
      ],
      "source": [
        "%%time\n",
        "que2 = 'what is Attention Is All You Need'\n",
        "\n",
        "response = query_engine2.query(que2)"
      ]
    },
    {
      "cell_type": "code",
      "source": [
        "pprint_response(response, show_source=True)\n",
        "\n",
        "print(response)"
      ],
      "metadata": {
        "colab": {
          "base_uri": "https://localhost:8080/"
        },
        "id": "fRRYftDy8vPG",
        "outputId": "45fd4a82-eb7f-49ea-9fc4-57996d45a991"
      },
      "execution_count": 35,
      "outputs": [
        {
          "output_type": "stream",
          "name": "stdout",
          "text": [
            "Final Response: Attention Is All You Need is a paper that proposes a\n",
            "new network architecture called the Transformer. This architecture is\n",
            "based solely on attention mechanisms and does not use recurrent or\n",
            "convolutional neural networks. The paper demonstrates that the\n",
            "Transformer models outperform existing models in terms of quality,\n",
            "parallelizability, and training time. The paper also shows that the\n",
            "Transformer generalizes well to other tasks, such as English\n",
            "constituency parsing.\n",
            "______________________________________________________________________\n",
            "Source Node 1/1\n",
            "Node ID: b4da5d33-6082-47cd-9213-9f3fb03e4b5f\n",
            "Similarity: 0.8151853268488424\n",
            "Text: Provided proper attribution is provided, Google hereby grants\n",
            "permission to reproduce the tables and figures in this paper solely\n",
            "for use in journalistic or scholarly works. Attention Is All You Need\n",
            "Ashish Vaswani∗ Google Brain avaswani@google.comNoam Shazeer∗ Google\n",
            "Brain noam@google.comNiki Parmar∗ Google Research\n",
            "nikip@google.comJakob Uszkor...\n",
            "Attention Is All You Need is a paper that proposes a new network architecture called the Transformer. This architecture is based solely on attention mechanisms and does not use recurrent or convolutional neural networks. The paper demonstrates that the Transformer models outperform existing models in terms of quality, parallelizability, and training time. The paper also shows that the Transformer generalizes well to other tasks, such as English constituency parsing.\n"
          ]
        }
      ]
    },
    {
      "cell_type": "code",
      "source": [],
      "metadata": {
        "id": "CyRXymak9f4I"
      },
      "execution_count": null,
      "outputs": []
    },
    {
      "cell_type": "code",
      "source": [
        "import os.path\n",
        "from llama_index import (\n",
        "                        VectorStoreIndex,\n",
        "                        SimpleDirectoryReader,\n",
        "                        StorageContext,\n",
        "                        load_index_from_storage,\n",
        "                    )"
      ],
      "metadata": {
        "id": "cDrnEVrc9fzR"
      },
      "execution_count": 39,
      "outputs": []
    },
    {
      "cell_type": "code",
      "execution_count": 40,
      "metadata": {
        "colab": {
          "base_uri": "https://localhost:8080/"
        },
        "id": "kQqj4uV13ngU",
        "outputId": "6126563b-eeae-478a-ae8e-05c3d9261153"
      },
      "outputs": [
        {
          "output_type": "stream",
          "name": "stdout",
          "text": [
            "Transformers are a model architecture that rely entirely on an attention mechanism to draw global dependencies between input and output. Unlike recurrent neural networks or convolutional neural networks, transformers do not use sequence-aligned RNNs or convolution. They are able to parallelize computations and have been shown to achieve state-of-the-art results in tasks such as translation. Transformers use self-attention, also known as intra-attention, to compute representations of input and output sequences.\n"
          ]
        }
      ],
      "source": [
        "\n",
        "\n",
        "# check if storage already exists\n",
        "PERSIST_DIR = \"./storage\"\n",
        "if not os.path.exists(PERSIST_DIR):\n",
        "    # load the documents and create the index\n",
        "    documents = SimpleDirectoryReader(\"data\").load_data()\n",
        "    index = VectorStoreIndex.from_documents(documents)\n",
        "    # store it for later\n",
        "    index.storage_context.persist(persist_dir=PERSIST_DIR)\n",
        "else:\n",
        "    # load the existing index\n",
        "    storage_context = StorageContext.from_defaults(persist_dir=PERSIST_DIR)\n",
        "    index = load_index_from_storage(storage_context)\n",
        "\n",
        "# either way we can now query the index\n",
        "query_engine = index.as_query_engine()\n",
        "response = query_engine.query(\"What are transformers?\")\n",
        "print(response)"
      ]
    },
    {
      "cell_type": "code",
      "source": [],
      "metadata": {
        "id": "nVxzY_aQ-0nf"
      },
      "execution_count": null,
      "outputs": []
    },
    {
      "cell_type": "code",
      "execution_count": 8,
      "metadata": {
        "colab": {
          "base_uri": "https://localhost:8080/"
        },
        "id": "JQ_KOeHm3ngV",
        "outputId": "bfb5413b-57d8-4a55-e2dc-2d18d3b96e07"
      },
      "outputs": [
        {
          "output_type": "stream",
          "name": "stdout",
          "text": [
            "  adding: storage/ (stored 0%)\n",
            "  adding: storage/graph_store.json (stored 0%)\n",
            "  adding: storage/image__vector_store.json (deflated 19%)\n",
            "  adding: storage/index_store.json (deflated 66%)\n",
            "  adding: storage/default__vector_store.json (deflated 62%)\n",
            "  adding: storage/docstore.json (deflated 76%)\n"
          ]
        }
      ],
      "source": [
        "# zip folder\n",
        "\n",
        "!zip -r /content/storage123.zip storage"
      ]
    },
    {
      "cell_type": "code",
      "source": [
        "# download folder\n",
        "from google.colab import files\n",
        "files.download(\"/content/storage123.zip\")\n",
        "# 1.33MB only"
      ],
      "metadata": {
        "colab": {
          "base_uri": "https://localhost:8080/",
          "height": 17
        },
        "id": "dxYJUeAX-m2A",
        "outputId": "0dd4a39a-b0fb-4293-893e-67a95dcbacf7"
      },
      "execution_count": 9,
      "outputs": [
        {
          "output_type": "display_data",
          "data": {
            "text/plain": [
              "<IPython.core.display.Javascript object>"
            ],
            "application/javascript": [
              "\n",
              "    async function download(id, filename, size) {\n",
              "      if (!google.colab.kernel.accessAllowed) {\n",
              "        return;\n",
              "      }\n",
              "      const div = document.createElement('div');\n",
              "      const label = document.createElement('label');\n",
              "      label.textContent = `Downloading \"${filename}\": `;\n",
              "      div.appendChild(label);\n",
              "      const progress = document.createElement('progress');\n",
              "      progress.max = size;\n",
              "      div.appendChild(progress);\n",
              "      document.body.appendChild(div);\n",
              "\n",
              "      const buffers = [];\n",
              "      let downloaded = 0;\n",
              "\n",
              "      const channel = await google.colab.kernel.comms.open(id);\n",
              "      // Send a message to notify the kernel that we're ready.\n",
              "      channel.send({})\n",
              "\n",
              "      for await (const message of channel.messages) {\n",
              "        // Send a message to notify the kernel that we're ready.\n",
              "        channel.send({})\n",
              "        if (message.buffers) {\n",
              "          for (const buffer of message.buffers) {\n",
              "            buffers.push(buffer);\n",
              "            downloaded += buffer.byteLength;\n",
              "            progress.value = downloaded;\n",
              "          }\n",
              "        }\n",
              "      }\n",
              "      const blob = new Blob(buffers, {type: 'application/binary'});\n",
              "      const a = document.createElement('a');\n",
              "      a.href = window.URL.createObjectURL(blob);\n",
              "      a.download = filename;\n",
              "      div.appendChild(a);\n",
              "      a.click();\n",
              "      div.remove();\n",
              "    }\n",
              "  "
            ]
          },
          "metadata": {}
        },
        {
          "output_type": "display_data",
          "data": {
            "text/plain": [
              "<IPython.core.display.Javascript object>"
            ],
            "application/javascript": [
              "download(\"download_dd9d6095-55a9-4df6-b311-0f2616812968\", \"storage123.zip\", 699718)"
            ]
          },
          "metadata": {}
        }
      ]
    },
    {
      "cell_type": "markdown",
      "source": [
        "# Restart and load RAG from starage folder"
      ],
      "metadata": {
        "id": "GeyrzLYg-4hf"
      }
    },
    {
      "cell_type": "code",
      "source": [
        "!unzip storage123.zip -d storage234"
      ],
      "metadata": {
        "colab": {
          "base_uri": "https://localhost:8080/"
        },
        "id": "D3vXF0ey_umu",
        "outputId": "57a17a98-ec20-4220-ec18-022bd78ceb4c"
      },
      "execution_count": 10,
      "outputs": [
        {
          "output_type": "stream",
          "name": "stdout",
          "text": [
            "Archive:  storage123.zip\n",
            "   creating: storage234/storage/\n",
            " extracting: storage234/storage/graph_store.json  \n",
            "  inflating: storage234/storage/image__vector_store.json  \n",
            "  inflating: storage234/storage/index_store.json  \n",
            "  inflating: storage234/storage/default__vector_store.json  \n",
            "  inflating: storage234/storage/docstore.json  \n"
          ]
        }
      ]
    },
    {
      "cell_type": "code",
      "source": [
        "import os.path\n",
        "from llama_index import (\n",
        "                        VectorStoreIndex,\n",
        "                        SimpleDirectoryReader,\n",
        "                        StorageContext,\n",
        "                        load_index_from_storage,\n",
        "                    )\n",
        "\n",
        "import os\n",
        "\n",
        "from google.colab import userdata\n",
        "OPENAI_API_KEY = userdata.get('OPENAI_API_KEY')\n",
        "os.environ['OPENAI_API_KEY'] = OPENAI_API_KEY"
      ],
      "metadata": {
        "id": "4GKoPMYm95qz"
      },
      "execution_count": 13,
      "outputs": []
    },
    {
      "cell_type": "code",
      "source": [
        "%%time\n",
        "# check if storage already exists\n",
        "PERSIST_DIR = \"/content/storage234/storage\"\n",
        "\n",
        "# load the existing index\n",
        "storage_context = StorageContext.from_defaults(persist_dir=PERSIST_DIR)\n",
        "index = load_index_from_storage(storage_context)\n",
        "\n"
      ],
      "metadata": {
        "colab": {
          "base_uri": "https://localhost:8080/"
        },
        "id": "VaTu1MdQ-LOu",
        "outputId": "3b28b8a5-f78b-442e-8b95-427ce10957cc"
      },
      "execution_count": 14,
      "outputs": [
        {
          "output_type": "stream",
          "name": "stdout",
          "text": [
            "CPU times: user 866 ms, sys: 75.4 ms, total: 941 ms\n",
            "Wall time: 949 ms\n"
          ]
        }
      ]
    },
    {
      "cell_type": "code",
      "source": [
        "%%time\n",
        "# either way we can now query the index\n",
        "query_engine = index.as_query_engine()\n",
        "response = query_engine.query(\"What are transformers?\")\n"
      ],
      "metadata": {
        "colab": {
          "base_uri": "https://localhost:8080/"
        },
        "id": "MfE9Ole6BN0o",
        "outputId": "00cc7a13-49f5-4d24-9657-1c89a89312f0"
      },
      "execution_count": 15,
      "outputs": [
        {
          "output_type": "stream",
          "name": "stdout",
          "text": [
            "CPU times: user 422 ms, sys: 52.2 ms, total: 475 ms\n",
            "Wall time: 5.59 s\n"
          ]
        }
      ]
    },
    {
      "cell_type": "code",
      "source": [
        "print(response)"
      ],
      "metadata": {
        "colab": {
          "base_uri": "https://localhost:8080/"
        },
        "id": "V_xdYNuzBnlg",
        "outputId": "459be774-1244-4ca4-f3c4-c5252d7a5abb"
      },
      "execution_count": 16,
      "outputs": [
        {
          "output_type": "stream",
          "name": "stdout",
          "text": [
            "Transformers are a model architecture that rely entirely on an attention mechanism to draw global dependencies between input and output. Unlike recurrent neural networks or convolutional neural networks, transformers do not use sequence-aligned RNNs or convolution. They are able to parallelize computations and have been shown to achieve state-of-the-art results in tasks such as translation. Transformers use self-attention, also known as intra-attention, to compute representations of input and output sequences.\n"
          ]
        }
      ]
    },
    {
      "cell_type": "code",
      "source": [],
      "metadata": {
        "id": "GekipEgxBpql"
      },
      "execution_count": null,
      "outputs": []
    }
  ],
  "metadata": {
    "kernelspec": {
      "display_name": "Python 3",
      "language": "python",
      "name": "python3"
    },
    "language_info": {
      "codemirror_mode": {
        "name": "ipython",
        "version": 3
      },
      "file_extension": ".py",
      "mimetype": "text/x-python",
      "name": "python",
      "nbconvert_exporter": "python",
      "pygments_lexer": "ipython3",
      "version": "3.10.0"
    },
    "colab": {
      "provenance": []
    },
    "widgets": {
      "application/vnd.jupyter.widget-state+json": {
        "abaeebd1b70444828b669be07db1cc39": {
          "model_module": "@jupyter-widgets/controls",
          "model_name": "HBoxModel",
          "model_module_version": "1.5.0",
          "state": {
            "_dom_classes": [],
            "_model_module": "@jupyter-widgets/controls",
            "_model_module_version": "1.5.0",
            "_model_name": "HBoxModel",
            "_view_count": null,
            "_view_module": "@jupyter-widgets/controls",
            "_view_module_version": "1.5.0",
            "_view_name": "HBoxView",
            "box_style": "",
            "children": [
              "IPY_MODEL_9cc3ca8c1a2f4b3a90064fb2c4575227",
              "IPY_MODEL_189d88b15a674d1c9135a23db892c0c8",
              "IPY_MODEL_0d6de71d77064dbbb76b26001b07fedf"
            ],
            "layout": "IPY_MODEL_c84cad2aef2348c5840579afd95d4968"
          }
        },
        "9cc3ca8c1a2f4b3a90064fb2c4575227": {
          "model_module": "@jupyter-widgets/controls",
          "model_name": "HTMLModel",
          "model_module_version": "1.5.0",
          "state": {
            "_dom_classes": [],
            "_model_module": "@jupyter-widgets/controls",
            "_model_module_version": "1.5.0",
            "_model_name": "HTMLModel",
            "_view_count": null,
            "_view_module": "@jupyter-widgets/controls",
            "_view_module_version": "1.5.0",
            "_view_name": "HTMLView",
            "description": "",
            "description_tooltip": null,
            "layout": "IPY_MODEL_6e90810ab7824e728012a1b9e008965b",
            "placeholder": "​",
            "style": "IPY_MODEL_45dbc912a3ba4c3fb8a44d505e1c6b75",
            "value": "Parsing nodes: 100%"
          }
        },
        "189d88b15a674d1c9135a23db892c0c8": {
          "model_module": "@jupyter-widgets/controls",
          "model_name": "FloatProgressModel",
          "model_module_version": "1.5.0",
          "state": {
            "_dom_classes": [],
            "_model_module": "@jupyter-widgets/controls",
            "_model_module_version": "1.5.0",
            "_model_name": "FloatProgressModel",
            "_view_count": null,
            "_view_module": "@jupyter-widgets/controls",
            "_view_module_version": "1.5.0",
            "_view_name": "ProgressView",
            "bar_style": "success",
            "description": "",
            "description_tooltip": null,
            "layout": "IPY_MODEL_23434ba9b0634b4c98c45fffe9972d3e",
            "max": 30,
            "min": 0,
            "orientation": "horizontal",
            "style": "IPY_MODEL_6098bc0d53ad4d8792b452079cfdcfbb",
            "value": 30
          }
        },
        "0d6de71d77064dbbb76b26001b07fedf": {
          "model_module": "@jupyter-widgets/controls",
          "model_name": "HTMLModel",
          "model_module_version": "1.5.0",
          "state": {
            "_dom_classes": [],
            "_model_module": "@jupyter-widgets/controls",
            "_model_module_version": "1.5.0",
            "_model_name": "HTMLModel",
            "_view_count": null,
            "_view_module": "@jupyter-widgets/controls",
            "_view_module_version": "1.5.0",
            "_view_name": "HTMLView",
            "description": "",
            "description_tooltip": null,
            "layout": "IPY_MODEL_ccc4c667294f4657beaf2fc219208b65",
            "placeholder": "​",
            "style": "IPY_MODEL_7cc771a255724d429c0063e4055946e8",
            "value": " 30/30 [00:00&lt;00:00, 198.99it/s]"
          }
        },
        "c84cad2aef2348c5840579afd95d4968": {
          "model_module": "@jupyter-widgets/base",
          "model_name": "LayoutModel",
          "model_module_version": "1.2.0",
          "state": {
            "_model_module": "@jupyter-widgets/base",
            "_model_module_version": "1.2.0",
            "_model_name": "LayoutModel",
            "_view_count": null,
            "_view_module": "@jupyter-widgets/base",
            "_view_module_version": "1.2.0",
            "_view_name": "LayoutView",
            "align_content": null,
            "align_items": null,
            "align_self": null,
            "border": null,
            "bottom": null,
            "display": null,
            "flex": null,
            "flex_flow": null,
            "grid_area": null,
            "grid_auto_columns": null,
            "grid_auto_flow": null,
            "grid_auto_rows": null,
            "grid_column": null,
            "grid_gap": null,
            "grid_row": null,
            "grid_template_areas": null,
            "grid_template_columns": null,
            "grid_template_rows": null,
            "height": null,
            "justify_content": null,
            "justify_items": null,
            "left": null,
            "margin": null,
            "max_height": null,
            "max_width": null,
            "min_height": null,
            "min_width": null,
            "object_fit": null,
            "object_position": null,
            "order": null,
            "overflow": null,
            "overflow_x": null,
            "overflow_y": null,
            "padding": null,
            "right": null,
            "top": null,
            "visibility": null,
            "width": null
          }
        },
        "6e90810ab7824e728012a1b9e008965b": {
          "model_module": "@jupyter-widgets/base",
          "model_name": "LayoutModel",
          "model_module_version": "1.2.0",
          "state": {
            "_model_module": "@jupyter-widgets/base",
            "_model_module_version": "1.2.0",
            "_model_name": "LayoutModel",
            "_view_count": null,
            "_view_module": "@jupyter-widgets/base",
            "_view_module_version": "1.2.0",
            "_view_name": "LayoutView",
            "align_content": null,
            "align_items": null,
            "align_self": null,
            "border": null,
            "bottom": null,
            "display": null,
            "flex": null,
            "flex_flow": null,
            "grid_area": null,
            "grid_auto_columns": null,
            "grid_auto_flow": null,
            "grid_auto_rows": null,
            "grid_column": null,
            "grid_gap": null,
            "grid_row": null,
            "grid_template_areas": null,
            "grid_template_columns": null,
            "grid_template_rows": null,
            "height": null,
            "justify_content": null,
            "justify_items": null,
            "left": null,
            "margin": null,
            "max_height": null,
            "max_width": null,
            "min_height": null,
            "min_width": null,
            "object_fit": null,
            "object_position": null,
            "order": null,
            "overflow": null,
            "overflow_x": null,
            "overflow_y": null,
            "padding": null,
            "right": null,
            "top": null,
            "visibility": null,
            "width": null
          }
        },
        "45dbc912a3ba4c3fb8a44d505e1c6b75": {
          "model_module": "@jupyter-widgets/controls",
          "model_name": "DescriptionStyleModel",
          "model_module_version": "1.5.0",
          "state": {
            "_model_module": "@jupyter-widgets/controls",
            "_model_module_version": "1.5.0",
            "_model_name": "DescriptionStyleModel",
            "_view_count": null,
            "_view_module": "@jupyter-widgets/base",
            "_view_module_version": "1.2.0",
            "_view_name": "StyleView",
            "description_width": ""
          }
        },
        "23434ba9b0634b4c98c45fffe9972d3e": {
          "model_module": "@jupyter-widgets/base",
          "model_name": "LayoutModel",
          "model_module_version": "1.2.0",
          "state": {
            "_model_module": "@jupyter-widgets/base",
            "_model_module_version": "1.2.0",
            "_model_name": "LayoutModel",
            "_view_count": null,
            "_view_module": "@jupyter-widgets/base",
            "_view_module_version": "1.2.0",
            "_view_name": "LayoutView",
            "align_content": null,
            "align_items": null,
            "align_self": null,
            "border": null,
            "bottom": null,
            "display": null,
            "flex": null,
            "flex_flow": null,
            "grid_area": null,
            "grid_auto_columns": null,
            "grid_auto_flow": null,
            "grid_auto_rows": null,
            "grid_column": null,
            "grid_gap": null,
            "grid_row": null,
            "grid_template_areas": null,
            "grid_template_columns": null,
            "grid_template_rows": null,
            "height": null,
            "justify_content": null,
            "justify_items": null,
            "left": null,
            "margin": null,
            "max_height": null,
            "max_width": null,
            "min_height": null,
            "min_width": null,
            "object_fit": null,
            "object_position": null,
            "order": null,
            "overflow": null,
            "overflow_x": null,
            "overflow_y": null,
            "padding": null,
            "right": null,
            "top": null,
            "visibility": null,
            "width": null
          }
        },
        "6098bc0d53ad4d8792b452079cfdcfbb": {
          "model_module": "@jupyter-widgets/controls",
          "model_name": "ProgressStyleModel",
          "model_module_version": "1.5.0",
          "state": {
            "_model_module": "@jupyter-widgets/controls",
            "_model_module_version": "1.5.0",
            "_model_name": "ProgressStyleModel",
            "_view_count": null,
            "_view_module": "@jupyter-widgets/base",
            "_view_module_version": "1.2.0",
            "_view_name": "StyleView",
            "bar_color": null,
            "description_width": ""
          }
        },
        "ccc4c667294f4657beaf2fc219208b65": {
          "model_module": "@jupyter-widgets/base",
          "model_name": "LayoutModel",
          "model_module_version": "1.2.0",
          "state": {
            "_model_module": "@jupyter-widgets/base",
            "_model_module_version": "1.2.0",
            "_model_name": "LayoutModel",
            "_view_count": null,
            "_view_module": "@jupyter-widgets/base",
            "_view_module_version": "1.2.0",
            "_view_name": "LayoutView",
            "align_content": null,
            "align_items": null,
            "align_self": null,
            "border": null,
            "bottom": null,
            "display": null,
            "flex": null,
            "flex_flow": null,
            "grid_area": null,
            "grid_auto_columns": null,
            "grid_auto_flow": null,
            "grid_auto_rows": null,
            "grid_column": null,
            "grid_gap": null,
            "grid_row": null,
            "grid_template_areas": null,
            "grid_template_columns": null,
            "grid_template_rows": null,
            "height": null,
            "justify_content": null,
            "justify_items": null,
            "left": null,
            "margin": null,
            "max_height": null,
            "max_width": null,
            "min_height": null,
            "min_width": null,
            "object_fit": null,
            "object_position": null,
            "order": null,
            "overflow": null,
            "overflow_x": null,
            "overflow_y": null,
            "padding": null,
            "right": null,
            "top": null,
            "visibility": null,
            "width": null
          }
        },
        "7cc771a255724d429c0063e4055946e8": {
          "model_module": "@jupyter-widgets/controls",
          "model_name": "DescriptionStyleModel",
          "model_module_version": "1.5.0",
          "state": {
            "_model_module": "@jupyter-widgets/controls",
            "_model_module_version": "1.5.0",
            "_model_name": "DescriptionStyleModel",
            "_view_count": null,
            "_view_module": "@jupyter-widgets/base",
            "_view_module_version": "1.2.0",
            "_view_name": "StyleView",
            "description_width": ""
          }
        },
        "2b18b8b07bb94079a147c1bc29041692": {
          "model_module": "@jupyter-widgets/controls",
          "model_name": "HBoxModel",
          "model_module_version": "1.5.0",
          "state": {
            "_dom_classes": [],
            "_model_module": "@jupyter-widgets/controls",
            "_model_module_version": "1.5.0",
            "_model_name": "HBoxModel",
            "_view_count": null,
            "_view_module": "@jupyter-widgets/controls",
            "_view_module_version": "1.5.0",
            "_view_name": "HBoxView",
            "box_style": "",
            "children": [
              "IPY_MODEL_f6310ebfee834bd6af0649087a434bee",
              "IPY_MODEL_2d6bd47306b1429f81c7658250ca4ec4",
              "IPY_MODEL_c880c0ac8b9242b99cc782ff91e7f405"
            ],
            "layout": "IPY_MODEL_0348645de340443bb04e7ded8f0072b0"
          }
        },
        "f6310ebfee834bd6af0649087a434bee": {
          "model_module": "@jupyter-widgets/controls",
          "model_name": "HTMLModel",
          "model_module_version": "1.5.0",
          "state": {
            "_dom_classes": [],
            "_model_module": "@jupyter-widgets/controls",
            "_model_module_version": "1.5.0",
            "_model_name": "HTMLModel",
            "_view_count": null,
            "_view_module": "@jupyter-widgets/controls",
            "_view_module_version": "1.5.0",
            "_view_name": "HTMLView",
            "description": "",
            "description_tooltip": null,
            "layout": "IPY_MODEL_5c8c9d198f4049d2b5e6731a976017e6",
            "placeholder": "​",
            "style": "IPY_MODEL_3439f5a9e7b64e55b3569adeb061f954",
            "value": "Generating embeddings: 100%"
          }
        },
        "2d6bd47306b1429f81c7658250ca4ec4": {
          "model_module": "@jupyter-widgets/controls",
          "model_name": "FloatProgressModel",
          "model_module_version": "1.5.0",
          "state": {
            "_dom_classes": [],
            "_model_module": "@jupyter-widgets/controls",
            "_model_module_version": "1.5.0",
            "_model_name": "FloatProgressModel",
            "_view_count": null,
            "_view_module": "@jupyter-widgets/controls",
            "_view_module_version": "1.5.0",
            "_view_name": "ProgressView",
            "bar_style": "success",
            "description": "",
            "description_tooltip": null,
            "layout": "IPY_MODEL_cb95fb487a7544e0b249403584e25659",
            "max": 48,
            "min": 0,
            "orientation": "horizontal",
            "style": "IPY_MODEL_74930014083b48a3995f55f1097a4e33",
            "value": 48
          }
        },
        "c880c0ac8b9242b99cc782ff91e7f405": {
          "model_module": "@jupyter-widgets/controls",
          "model_name": "HTMLModel",
          "model_module_version": "1.5.0",
          "state": {
            "_dom_classes": [],
            "_model_module": "@jupyter-widgets/controls",
            "_model_module_version": "1.5.0",
            "_model_name": "HTMLModel",
            "_view_count": null,
            "_view_module": "@jupyter-widgets/controls",
            "_view_module_version": "1.5.0",
            "_view_name": "HTMLView",
            "description": "",
            "description_tooltip": null,
            "layout": "IPY_MODEL_3f5f1f002da6429782a419fe2894a82c",
            "placeholder": "​",
            "style": "IPY_MODEL_ff41616fbbdf40f3af051543a55c3266",
            "value": " 48/48 [00:01&lt;00:00, 39.25it/s]"
          }
        },
        "0348645de340443bb04e7ded8f0072b0": {
          "model_module": "@jupyter-widgets/base",
          "model_name": "LayoutModel",
          "model_module_version": "1.2.0",
          "state": {
            "_model_module": "@jupyter-widgets/base",
            "_model_module_version": "1.2.0",
            "_model_name": "LayoutModel",
            "_view_count": null,
            "_view_module": "@jupyter-widgets/base",
            "_view_module_version": "1.2.0",
            "_view_name": "LayoutView",
            "align_content": null,
            "align_items": null,
            "align_self": null,
            "border": null,
            "bottom": null,
            "display": null,
            "flex": null,
            "flex_flow": null,
            "grid_area": null,
            "grid_auto_columns": null,
            "grid_auto_flow": null,
            "grid_auto_rows": null,
            "grid_column": null,
            "grid_gap": null,
            "grid_row": null,
            "grid_template_areas": null,
            "grid_template_columns": null,
            "grid_template_rows": null,
            "height": null,
            "justify_content": null,
            "justify_items": null,
            "left": null,
            "margin": null,
            "max_height": null,
            "max_width": null,
            "min_height": null,
            "min_width": null,
            "object_fit": null,
            "object_position": null,
            "order": null,
            "overflow": null,
            "overflow_x": null,
            "overflow_y": null,
            "padding": null,
            "right": null,
            "top": null,
            "visibility": null,
            "width": null
          }
        },
        "5c8c9d198f4049d2b5e6731a976017e6": {
          "model_module": "@jupyter-widgets/base",
          "model_name": "LayoutModel",
          "model_module_version": "1.2.0",
          "state": {
            "_model_module": "@jupyter-widgets/base",
            "_model_module_version": "1.2.0",
            "_model_name": "LayoutModel",
            "_view_count": null,
            "_view_module": "@jupyter-widgets/base",
            "_view_module_version": "1.2.0",
            "_view_name": "LayoutView",
            "align_content": null,
            "align_items": null,
            "align_self": null,
            "border": null,
            "bottom": null,
            "display": null,
            "flex": null,
            "flex_flow": null,
            "grid_area": null,
            "grid_auto_columns": null,
            "grid_auto_flow": null,
            "grid_auto_rows": null,
            "grid_column": null,
            "grid_gap": null,
            "grid_row": null,
            "grid_template_areas": null,
            "grid_template_columns": null,
            "grid_template_rows": null,
            "height": null,
            "justify_content": null,
            "justify_items": null,
            "left": null,
            "margin": null,
            "max_height": null,
            "max_width": null,
            "min_height": null,
            "min_width": null,
            "object_fit": null,
            "object_position": null,
            "order": null,
            "overflow": null,
            "overflow_x": null,
            "overflow_y": null,
            "padding": null,
            "right": null,
            "top": null,
            "visibility": null,
            "width": null
          }
        },
        "3439f5a9e7b64e55b3569adeb061f954": {
          "model_module": "@jupyter-widgets/controls",
          "model_name": "DescriptionStyleModel",
          "model_module_version": "1.5.0",
          "state": {
            "_model_module": "@jupyter-widgets/controls",
            "_model_module_version": "1.5.0",
            "_model_name": "DescriptionStyleModel",
            "_view_count": null,
            "_view_module": "@jupyter-widgets/base",
            "_view_module_version": "1.2.0",
            "_view_name": "StyleView",
            "description_width": ""
          }
        },
        "cb95fb487a7544e0b249403584e25659": {
          "model_module": "@jupyter-widgets/base",
          "model_name": "LayoutModel",
          "model_module_version": "1.2.0",
          "state": {
            "_model_module": "@jupyter-widgets/base",
            "_model_module_version": "1.2.0",
            "_model_name": "LayoutModel",
            "_view_count": null,
            "_view_module": "@jupyter-widgets/base",
            "_view_module_version": "1.2.0",
            "_view_name": "LayoutView",
            "align_content": null,
            "align_items": null,
            "align_self": null,
            "border": null,
            "bottom": null,
            "display": null,
            "flex": null,
            "flex_flow": null,
            "grid_area": null,
            "grid_auto_columns": null,
            "grid_auto_flow": null,
            "grid_auto_rows": null,
            "grid_column": null,
            "grid_gap": null,
            "grid_row": null,
            "grid_template_areas": null,
            "grid_template_columns": null,
            "grid_template_rows": null,
            "height": null,
            "justify_content": null,
            "justify_items": null,
            "left": null,
            "margin": null,
            "max_height": null,
            "max_width": null,
            "min_height": null,
            "min_width": null,
            "object_fit": null,
            "object_position": null,
            "order": null,
            "overflow": null,
            "overflow_x": null,
            "overflow_y": null,
            "padding": null,
            "right": null,
            "top": null,
            "visibility": null,
            "width": null
          }
        },
        "74930014083b48a3995f55f1097a4e33": {
          "model_module": "@jupyter-widgets/controls",
          "model_name": "ProgressStyleModel",
          "model_module_version": "1.5.0",
          "state": {
            "_model_module": "@jupyter-widgets/controls",
            "_model_module_version": "1.5.0",
            "_model_name": "ProgressStyleModel",
            "_view_count": null,
            "_view_module": "@jupyter-widgets/base",
            "_view_module_version": "1.2.0",
            "_view_name": "StyleView",
            "bar_color": null,
            "description_width": ""
          }
        },
        "3f5f1f002da6429782a419fe2894a82c": {
          "model_module": "@jupyter-widgets/base",
          "model_name": "LayoutModel",
          "model_module_version": "1.2.0",
          "state": {
            "_model_module": "@jupyter-widgets/base",
            "_model_module_version": "1.2.0",
            "_model_name": "LayoutModel",
            "_view_count": null,
            "_view_module": "@jupyter-widgets/base",
            "_view_module_version": "1.2.0",
            "_view_name": "LayoutView",
            "align_content": null,
            "align_items": null,
            "align_self": null,
            "border": null,
            "bottom": null,
            "display": null,
            "flex": null,
            "flex_flow": null,
            "grid_area": null,
            "grid_auto_columns": null,
            "grid_auto_flow": null,
            "grid_auto_rows": null,
            "grid_column": null,
            "grid_gap": null,
            "grid_row": null,
            "grid_template_areas": null,
            "grid_template_columns": null,
            "grid_template_rows": null,
            "height": null,
            "justify_content": null,
            "justify_items": null,
            "left": null,
            "margin": null,
            "max_height": null,
            "max_width": null,
            "min_height": null,
            "min_width": null,
            "object_fit": null,
            "object_position": null,
            "order": null,
            "overflow": null,
            "overflow_x": null,
            "overflow_y": null,
            "padding": null,
            "right": null,
            "top": null,
            "visibility": null,
            "width": null
          }
        },
        "ff41616fbbdf40f3af051543a55c3266": {
          "model_module": "@jupyter-widgets/controls",
          "model_name": "DescriptionStyleModel",
          "model_module_version": "1.5.0",
          "state": {
            "_model_module": "@jupyter-widgets/controls",
            "_model_module_version": "1.5.0",
            "_model_name": "DescriptionStyleModel",
            "_view_count": null,
            "_view_module": "@jupyter-widgets/base",
            "_view_module_version": "1.2.0",
            "_view_name": "StyleView",
            "description_width": ""
          }
        }
      }
    }
  },
  "nbformat": 4,
  "nbformat_minor": 0
}